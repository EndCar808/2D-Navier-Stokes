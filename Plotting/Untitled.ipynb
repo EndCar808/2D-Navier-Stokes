{
 "cells": [
  {
   "cell_type": "code",
   "execution_count": 2,
   "metadata": {},
   "outputs": [],
   "source": [
    "import numpy\n",
    "import h5py"
   ]
  },
  {
   "cell_type": "code",
   "execution_count": 4,
   "metadata": {},
   "outputs": [],
   "source": [
    "with h5py.File('/home/ecarroll/PhD/2D_Navier_Stokes/Data/Tmp/SIM_DATA_NAVIER_RK4_FULL_N[512,512]_T[0-1]_NU[0.003000]_CFL[0.70]_u0[MAX_PALIN]_TAG[Sync-Test]/Main_HDF_Data.h5', 'r') as f:\n",
    "    solv = f['Iter_00000']['w']"
   ]
  },
  {
   "cell_type": "code",
   "execution_count": 7,
   "metadata": {},
   "outputs": [],
   "source": [
    "with h5py.File('/home/ecarroll/PhD/2D_Navier_Stokes/Data/InitialConditions/MaxPalinstrophy/maxdpdt_P10000_N512_IG0_psi_f.h5', 'r') as f:\n",
    "    solv = f['psi']"
   ]
  },
  {
   "cell_type": "code",
   "execution_count": null,
   "metadata": {},
   "outputs": [],
   "source": []
  }
 ],
 "metadata": {
  "kernelspec": {
   "display_name": "Python 3",
   "language": "python",
   "name": "python3"
  },
  "language_info": {
   "codemirror_mode": {
    "name": "ipython",
    "version": 3
   },
   "file_extension": ".py",
   "mimetype": "text/x-python",
   "name": "python",
   "nbconvert_exporter": "python",
   "pygments_lexer": "ipython3",
   "version": "3.6.9"
  }
 },
 "nbformat": 4,
 "nbformat_minor": 4
}
