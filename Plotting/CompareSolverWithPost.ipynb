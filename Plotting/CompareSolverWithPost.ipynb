{
 "cells": [
  {
   "cell_type": "code",
   "execution_count": 1,
   "metadata": {},
   "outputs": [],
   "source": [
    "#######################\n",
    "##  Library Imports  ##\n",
    "#######################\n",
    "import numpy as np\n",
    "import h5py\n",
    "import sys\n",
    "import os\n",
    "from numba import njit\n",
    "import matplotlib as mpl\n",
    "mpl.rcParams['text.usetex'] = True\n",
    "mpl.rcParams['font.family'] = 'serif'\n",
    "mpl.rcParams['font.serif']  = 'Computer Modern Roman'\n",
    "import matplotlib.pyplot as plt\n",
    "from matplotlib.gridspec import GridSpec\n",
    "from mpl_toolkits.axes_grid1 import make_axes_locatable\n",
    "import getopt\n",
    "from itertools import zip_longest\n",
    "import multiprocessing as mprocs\n",
    "import time as TIME\n",
    "from subprocess import Popen, PIPE\n",
    "from matplotlib.pyplot import cm\n",
    "from functions import tc, sim_data, import_data, import_spectra_data, import_post_processing_data\n",
    "from plot_functions import plot_sector_phase_sync_snaps"
   ]
  },
  {
   "cell_type": "code",
   "execution_count": 2,
   "metadata": {},
   "outputs": [],
   "source": [
    "in_dir = \"../Data/Test/SIM_DATA_NAVIER_RK4_FULL_N[128,128]_T[0-5]_NU[0.000003]_CFL[0.90]_u0[DECAY_TURB_ALT]_TAG[Test-Test]/\"\n",
    "post_file_path = in_dir + \"PostProcessing_HDF_Data_SECTORS[24]_KFRAC[0.75]_TAG[Test-Test].h5\""
   ]
  },
  {
   "cell_type": "code",
   "execution_count": 23,
   "metadata": {},
   "outputs": [
    {
     "name": "stdout",
     "output_type": "stream",
     "text": [
      "Kx\n"
     ]
    }
   ],
   "source": [
    "# -----------------------------------------\n",
    "# # --------  Read In data\n",
    "# -----------------------------------------\n",
    "## Read in simulation parameters\n",
    "sys_vars = sim_data(in_dir)\n",
    "\n",
    "## Read in solver data\n",
    "run_data = import_data(in_dir, sys_vars)\n",
    "\n",
    "## Read in spectra data\n",
    "spec_data = import_spectra_data(in_dir, sys_vars)\n",
    "\n",
    "## Read in post processing data\n",
    "post_data = import_post_processing_data(post_file_path, sys_vars, 'file')\n",
    "\n",
    "## Number of triad types\n",
    "num_triad_types = 7"
   ]
  },
  {
   "cell_type": "markdown",
   "metadata": {},
   "source": [
    "## Data Functions"
   ]
  },
  {
   "cell_type": "code",
   "execution_count": 24,
   "metadata": {},
   "outputs": [],
   "source": [
    "def get_w(w_hat):\n",
    "    return np.fft.irfft2(w_hat)\n",
    "\n",
    "def get_u_hat_x(w_hat, k2inv, ky):\n",
    "    return np.complex(0.0, 1.0) * k2inv * ky * w_hat\n",
    "\n",
    "def get_u_hat_y(w_hat, k2inv, kx):\n",
    "    return -np.complex(0.0, 1.0) * k2inv * kx[:, np.newaxis] * w_hat\n",
    "\n",
    "def get_u_x(w_hat, k2inv, ky):\n",
    "    return np.fft.irfft2(np.complex(0.0, 1.0) * k2inv * ky * w_hat)\n",
    "\n",
    "def get_u_y(w_hat, k2inv, kx):\n",
    "    return np.fft.irfft2(-np.complex(0.0, 1.0) * k2inv * kx[:, np.newaxis] * w_hat)\n",
    "\n",
    "def get_nonlin_r(nonlin):\n",
    "    return np.fft.irfft2(nonlin)"
   ]
  },
  {
   "cell_type": "markdown",
   "metadata": {},
   "source": [
    "## Test Functions"
   ]
  },
  {
   "cell_type": "code",
   "execution_count": 25,
   "metadata": {},
   "outputs": [],
   "source": [
    "def compare(a, b):\n",
    "    max = 0\n",
    "    for i in range(a.shape[0]):\n",
    "        for j in range(a.shape[1]):\n",
    "            max = np.maximum(np.absolute(a[i, j] - b[i, j]), max)\n",
    "    print(\"All Close:\\t{}\\nL_inf Err:\\t{}\\nMax Abs Err:\\t{}\\n\".format(np.allclose(a, b), np.linalg.norm(a - b, ord = np.inf), max))"
   ]
  },
  {
   "cell_type": "code",
   "execution_count": 26,
   "metadata": {},
   "outputs": [],
   "source": [
    "t = 0"
   ]
  },
  {
   "cell_type": "markdown",
   "metadata": {},
   "source": [
    "## Take Solver Fourier Space Vorticity As Ground Truth"
   ]
  },
  {
   "cell_type": "code",
   "execution_count": 27,
   "metadata": {},
   "outputs": [],
   "source": [
    "py_what   = run_data.w_hat[t, :, :]\n",
    "py_w      = get_w(py_what)\n",
    "py_uhat_x = get_u_hat_x(py_what, run_data.k2Inv, run_data.ky)\n",
    "py_uhat_y = get_u_hat_y(py_what, run_data.k2Inv, run_data.kx)\n",
    "py_u_x    = get_u_x(py_what, run_data.k2Inv, run_data.ky)\n",
    "py_u_y    = get_u_y(py_what, run_data.k2Inv, run_data.kx)\n",
    "py_nonlin = get_nonlin_r(run_data.nonlin[t, :, :])"
   ]
  },
  {
   "cell_type": "markdown",
   "metadata": {},
   "source": [
    "## Compare Solver Data With Python"
   ]
  },
  {
   "cell_type": "code",
   "execution_count": 28,
   "metadata": {},
   "outputs": [
    {
     "name": "stdout",
     "output_type": "stream",
     "text": [
      "Real Space Vorticity:\n",
      "All Close:\tTrue\n",
      "L_inf Err:\t7.37188088351104e-14\n",
      "Max Abs Err:\t2.6645352591003757e-15\n",
      "\n",
      "\n",
      "Real U_x:\n",
      "All Close:\tTrue\n",
      "L_inf Err:\t4.3662989890336235e-15\n",
      "Max Abs Err:\t1.6653345369377348e-16\n",
      "\n",
      "\n",
      "Real U_y:\n",
      "All Close:\tTrue\n",
      "L_inf Err:\t5.488665077990618e-15\n",
      "Max Abs Err:\t1.6653345369377348e-16\n",
      "\n",
      "\n",
      "Fourier Uhat_x:\n",
      "All Close:\tTrue\n",
      "L_inf Err:\t0.0\n",
      "Max Abs Err:\t0.0\n",
      "\n",
      "\n",
      "Fourier Uhat_y:\n",
      "All Close:\tTrue\n",
      "L_inf Err:\t0.0\n",
      "Max Abs Err:\t0.0\n",
      "\n",
      "\n"
     ]
    }
   ],
   "source": [
    "print(\"Real Space Vorticity:\")\n",
    "compare(py_w, run_data.w[t, :, :])\n",
    "print()\n",
    "\n",
    "print(\"Real U_x:\")\n",
    "compare(py_u_x, run_data.u[t, :, :, 0])\n",
    "print()\n",
    "\n",
    "print(\"Real U_y:\")\n",
    "compare(py_u_y, run_data.u[t, :, :, 1])\n",
    "print()\n",
    "\n",
    "print(\"Fourier Uhat_x:\")\n",
    "compare(py_uhat_x, run_data.u_hat[t, :, :, 0])\n",
    "print()\n",
    "\n",
    "print(\"Fourier Uhat_y:\")\n",
    "compare(py_uhat_y, run_data.u_hat[t, :, :, 1])\n",
    "print()"
   ]
  },
  {
   "cell_type": "markdown",
   "metadata": {},
   "source": [
    "## Compare Post Data with Python"
   ]
  },
  {
   "cell_type": "code",
   "execution_count": 29,
   "metadata": {},
   "outputs": [
    {
     "name": "stdout",
     "output_type": "stream",
     "text": [
      "Real Space Vorticity:\n",
      "All Close:\tTrue\n",
      "L_inf Err:\t7.37188088351104e-14\n",
      "Max Abs Err:\t2.6645352591003757e-15\n",
      "\n",
      "\n",
      "Real U_x:\n",
      "All Close:\tTrue\n",
      "L_inf Err:\t4.3662989890336235e-15\n",
      "Max Abs Err:\t1.6653345369377348e-16\n",
      "\n",
      "\n",
      "Real U_y:\n",
      "All Close:\tTrue\n",
      "L_inf Err:\t6.0021432268797525e-15\n",
      "Max Abs Err:\t1.3877787807814457e-16\n",
      "\n",
      "\n",
      "Fourier Uhat_x:\n",
      "All Close:\tTrue\n",
      "L_inf Err:\t0.0\n",
      "Max Abs Err:\t0.0\n",
      "\n",
      "\n",
      "Fourier Uhat_y:\n",
      "All Close:\tTrue\n",
      "L_inf Err:\t0.0\n",
      "Max Abs Err:\t0.0\n",
      "\n",
      "\n"
     ]
    }
   ],
   "source": [
    "print(\"Real Space Vorticity:\")\n",
    "compare(py_w, post_data.w[t, :, :])\n",
    "print()\n",
    "\n",
    "print(\"Real U_x:\")\n",
    "compare(py_u_x, post_data.u[t, :, :, 0])\n",
    "print()\n",
    "\n",
    "print(\"Real U_y:\")\n",
    "compare(py_u_y, post_data.u[t, :, :, 1])\n",
    "print()\n",
    "\n",
    "print(\"Fourier Uhat_x:\")\n",
    "compare(py_uhat_x, post_data.u_hat[t, :, :, 0])\n",
    "print()\n",
    "\n",
    "print(\"Fourier Uhat_y:\")\n",
    "compare(py_uhat_y, post_data.u_hat[t, :, :, 1])\n",
    "print()"
   ]
  },
  {
   "cell_type": "markdown",
   "metadata": {},
   "source": [
    "## Compare Post with Solver Data"
   ]
  },
  {
   "cell_type": "code",
   "execution_count": 31,
   "metadata": {},
   "outputs": [
    {
     "name": "stdout",
     "output_type": "stream",
     "text": [
      "Real Space Vorticity:\n",
      "All Close:\tTrue\n",
      "L_inf Err:\t5.434541705540141e-14\n",
      "Max Abs Err:\t1.7763568394002505e-15\n",
      "\n",
      "\n",
      "Real U_x:\n",
      "All Close:\tTrue\n",
      "L_inf Err:\t2.607289384393141e-15\n",
      "Max Abs Err:\t1.1102230246251565e-16\n",
      "\n",
      "\n",
      "Real U_y:\n",
      "All Close:\tTrue\n",
      "L_inf Err:\t3.7192471324942744e-15\n",
      "Max Abs Err:\t1.1102230246251565e-16\n",
      "\n",
      "\n",
      "Fourier Uhat_x:\n",
      "All Close:\tTrue\n",
      "L_inf Err:\t0.0\n",
      "Max Abs Err:\t0.0\n",
      "\n",
      "\n",
      "Fourier Uhat_y:\n",
      "All Close:\tTrue\n",
      "L_inf Err:\t0.0\n",
      "Max Abs Err:\t0.0\n",
      "\n",
      "\n",
      "ky:\n",
      "True\n",
      "\n",
      "kx:\n",
      "True\n",
      "\n"
     ]
    }
   ],
   "source": [
    "print(\"Real Space Vorticity:\")\n",
    "compare(run_data.w[t, :, :], post_data.w[t, :, :])\n",
    "print()\n",
    "\n",
    "print(\"Real U_x:\")\n",
    "compare(run_data.u[t, :, :, 0], post_data.u[t, :, :, 0])\n",
    "print()\n",
    "\n",
    "print(\"Real U_y:\")\n",
    "compare(run_data.u[t, :, :, 1], post_data.u[t, :, :, 1])\n",
    "print()\n",
    "\n",
    "print(\"Fourier Uhat_x:\")\n",
    "compare(run_data.u_hat[t, :, :, 0], post_data.u_hat[t, :, :, 0])\n",
    "print()\n",
    "\n",
    "print(\"Fourier Uhat_y:\")\n",
    "compare(run_data.u_hat[t, :, :, 1], post_data.u_hat[t, :, :, 1])\n",
    "print()\n",
    "\n",
    "print(\"ky:\")\n",
    "print(np.allclose(run_data.ky[:], post_data.ky[:]))\n",
    "print()\n",
    "print(\"kx:\")\n",
    "print(np.allclose(run_data.kx[:], post_data.kx[:]))\n",
    "print()"
   ]
  },
  {
   "cell_type": "code",
   "execution_count": 42,
   "metadata": {},
   "outputs": [
    {
     "name": "stdout",
     "output_type": "stream",
     "text": [
      "[ 0  1  2  3  4  5  6  7  8  9 10 11 12 13 14 15 16 17 18 19 20 21 22 23\n",
      " 24 25 26 27 28 29 30 31 32 33 34 35 36 37 38 39 40 41 42 43 44 45 46 47\n",
      " 48 49 50 51 52 53 54 55 56 57 58 59 60 61 62 63 64]\n",
      "[  0   1   2   3   4   5   6   7   8   9  10  11  12  13  14  15  16  17\n",
      "  18  19  20  21  22  23  24  25  26  27  28  29  30  31  32  33  34  35\n",
      "  36  37  38  39  40  41  42  43  44  45  46  47  48  49  50  51  52  53\n",
      "  54  55  56  57  58  59  60  61  62  63  64 -63 -62 -61 -60 -59 -58 -57\n",
      " -56 -55 -54 -53 -52 -51 -50 -49 -48 -47 -46 -45 -44 -43 -42 -41 -40 -39\n",
      " -38 -37 -36 -35 -34 -33 -32 -31 -30 -29 -28 -27 -26 -25 -24 -23 -22 -21\n",
      " -20 -19 -18 -17 -16 -15 -14 -13 -12 -11 -10  -9  -8  -7  -6  -5  -4  -3\n",
      "  -2  -1]\n"
     ]
    }
   ],
   "source": [
    "print(run_data.ky)\n",
    "print(run_data.kx)\n"
   ]
  },
  {
   "cell_type": "code",
   "execution_count": 22,
   "metadata": {},
   "outputs": [
    {
     "name": "stdout",
     "output_type": "stream",
     "text": [
      "uh_x[1,0] 0.0000000000 0.0000000000I\tuh_y[1,0] -48.6758124140 -6.7951102323I\n",
      "uh_x[1,1] -16.1296414438 56.4304077797I\tuh_y[1,1] 16.1296414438 -56.4304077797I\n",
      "uh_x[1,2] -201.8646221000 18.7669329305I\tuh_y[1,2] 100.9323110500 -9.3834664652I\n",
      "uh_x[1,3] -74.0181953378 -5.1244201528I\tuh_y[1,3] 24.6727317793 1.7081400509I\n",
      "uh_x[1,4] 83.1672088434 108.6145438282I\tuh_y[1,4] -20.7918022108 -27.1536359571I\n",
      "uh_x[1,5] 155.5004689000 -123.9583569156I\tuh_y[1,5] -31.1000937800 24.7916713831I\n",
      "uh_x[1,6] 61.6816218916 32.6154071349I\tuh_y[1,6] -10.2802703153 -5.4359011892I\n",
      "uh_x[1,7] 103.1016448002 -99.4162898344I\tuh_y[1,7] -14.7288064000 14.2023271192I\n",
      "uh_x[1,8] -22.9460058734 58.1872861418I\tuh_y[1,8] 2.8682507342 -7.2734107677I\n",
      "uh_x[1,9] 76.1886831254 -12.3692549041I\tuh_y[1,9] -8.4654092362 1.3743616560I\n",
      "uh_x[1,10] 37.0032939317 3.5456219382I\tuh_y[1,10] -3.7003293932 -0.3545621938I\n",
      "uh_x[1,11] -59.8409536013 -10.0217719012I\tuh_y[1,11] 5.4400866910 0.9110701728I\n",
      "uh_x[1,12] 20.4368248449 -19.9686012479I\tuh_y[1,12] -1.7030687371 1.6640501040I\n",
      "uh_x[1,13] -1.7028183247 40.8593857049I\tuh_y[1,13] 0.1309860250 -3.1430296696I\n",
      "uh_x[1,14] -4.5616613191 -3.3368616236I\tuh_y[1,14] 0.3258329514 0.2383472588I\n",
      "uh_x[1,15] -3.4296947409 12.9538759233I\tuh_y[1,15] 0.2286463161 -0.8635917282I\n",
      "uh_x[1,16] -39.2397387567 21.2343289574I\tuh_y[1,16] 2.4524836723 -1.3271455598I\n",
      "uh_x[1,17] 33.4301063409 27.9378111997I\tuh_y[1,17] -1.9664768436 -1.6434006588I\n",
      "uh_x[1,18] -6.5683083923 -17.1681487867I\tuh_y[1,18] 0.3649060218 0.9537860437I\n",
      "uh_x[1,19] -9.3684264385 -29.6122447630I\tuh_y[1,19] 0.4930750757 1.5585391981I\n",
      "uh_x[1,20] 15.3606282879 11.9654102814I\tuh_y[1,20] -0.7680314144 -0.5982705141I\n",
      "uh_x[1,21] 11.0438042448 -22.3498189555I\tuh_y[1,21] -0.5258954402 1.0642770931I\n",
      "uh_x[1,22] 7.1538721592 0.0725132671I\tuh_y[1,22] -0.3251760072 -0.0032960576I\n",
      "uh_x[1,23] 16.8831445264 6.0048708127I\tuh_y[1,23] -0.7340497620 -0.2610813397I\n",
      "uh_x[1,24] -3.1566693168 3.5628245877I\tuh_y[1,24] 0.1315278882 -0.1484510245I\n",
      "uh_x[1,25] -1.0525768079 12.9102865452I\tuh_y[1,25] 0.0421030723 -0.5164114618I\n",
      "uh_x[1,26] -6.8983463852 -2.1723042997I\tuh_y[1,26] 0.2653210148 0.0835501654I\n",
      "uh_x[1,27] 1.9629805281 8.1311477625I\tuh_y[1,27] -0.0727029825 -0.3011536208I\n",
      "uh_x[1,28] -2.0807836064 -0.0408690724I\tuh_y[1,28] 0.0743137002 0.0014596097I\n",
      "uh_x[1,29] -0.8749742624 -0.2598832274I\tuh_y[1,29] 0.0301715263 0.0089614906I\n",
      "uh_x[1,30] -2.7066243733 1.2265192902I\tuh_y[1,30] 0.0902208124 -0.0408839763I\n",
      "uh_x[1,31] -4.1002361604 -0.6599925973I\tuh_y[1,31] 0.1322656826 0.0212900838I\n",
      "uh_x[1,32] -0.9182807779 3.6506879771I\tuh_y[1,32] 0.0286962743 -0.1140839993I\n",
      "uh_x[1,33] -4.1591379568 -2.9286295375I\tuh_y[1,33] 0.1260344835 0.0887463496I\n",
      "uh_x[1,34] 2.4783996281 0.7797127470I\tuh_y[1,34] -0.0728941067 -0.0229327279I\n",
      "uh_x[1,35] -0.5521528716 0.9927783183I\tuh_y[1,35] 0.0157757963 -0.0283650948I\n",
      "uh_x[1,36] -1.3024309514 -0.5294243073I\tuh_y[1,36] 0.0361786375 0.0147062308I\n",
      "uh_x[1,37] 1.9876251221 1.7398163997I\tuh_y[1,37] -0.0537195979 -0.0470220649I\n",
      "uh_x[1,38] -0.6693125972 -3.7991613990I\tuh_y[1,38] 0.0176134894 0.0999779316I\n",
      "uh_x[1,39] -0.0599178630 -1.4944180652I\tuh_y[1,39] 0.0015363555 0.0383184119I\n",
      "uh_x[1,40] 0.8857305822 -0.5484882722I\tuh_y[1,40] -0.0221432646 0.0137122068I\n",
      "uh_x[1,41] 0.1643681907 1.3989488993I\tuh_y[1,41] -0.0040089803 -0.0341207049I\n",
      "uh_x[1,42] 0.0000000000 0.0000000000I\tuh_y[1,42] 0.0000000000 -0.0000000000I\n",
      "uh_x[1,43] 0.0000000000 0.0000000000I\tuh_y[1,43] 0.0000000000 -0.0000000000I\n",
      "uh_x[1,44] 0.0000000000 0.0000000000I\tuh_y[1,44] 0.0000000000 -0.0000000000I\n",
      "uh_x[1,45] 0.0000000000 0.0000000000I\tuh_y[1,45] 0.0000000000 -0.0000000000I\n",
      "uh_x[1,46] 0.0000000000 0.0000000000I\tuh_y[1,46] 0.0000000000 -0.0000000000I\n",
      "uh_x[1,47] 0.0000000000 0.0000000000I\tuh_y[1,47] 0.0000000000 -0.0000000000I\n",
      "uh_x[1,48] 0.0000000000 0.0000000000I\tuh_y[1,48] 0.0000000000 -0.0000000000I\n",
      "uh_x[1,49] 0.0000000000 0.0000000000I\tuh_y[1,49] 0.0000000000 -0.0000000000I\n",
      "uh_x[1,50] 0.0000000000 0.0000000000I\tuh_y[1,50] 0.0000000000 -0.0000000000I\n",
      "uh_x[1,51] 0.0000000000 0.0000000000I\tuh_y[1,51] 0.0000000000 -0.0000000000I\n",
      "uh_x[1,52] 0.0000000000 0.0000000000I\tuh_y[1,52] 0.0000000000 -0.0000000000I\n",
      "uh_x[1,53] 0.0000000000 0.0000000000I\tuh_y[1,53] 0.0000000000 -0.0000000000I\n",
      "uh_x[1,54] 0.0000000000 0.0000000000I\tuh_y[1,54] 0.0000000000 -0.0000000000I\n",
      "uh_x[1,55] 0.0000000000 0.0000000000I\tuh_y[1,55] 0.0000000000 -0.0000000000I\n",
      "uh_x[1,56] 0.0000000000 0.0000000000I\tuh_y[1,56] 0.0000000000 -0.0000000000I\n",
      "uh_x[1,57] 0.0000000000 0.0000000000I\tuh_y[1,57] 0.0000000000 -0.0000000000I\n",
      "uh_x[1,58] 0.0000000000 0.0000000000I\tuh_y[1,58] 0.0000000000 -0.0000000000I\n",
      "uh_x[1,59] 0.0000000000 0.0000000000I\tuh_y[1,59] 0.0000000000 -0.0000000000I\n",
      "uh_x[1,60] 0.0000000000 0.0000000000I\tuh_y[1,60] 0.0000000000 -0.0000000000I\n",
      "uh_x[1,61] 0.0000000000 0.0000000000I\tuh_y[1,61] 0.0000000000 -0.0000000000I\n",
      "uh_x[1,62] 0.0000000000 0.0000000000I\tuh_y[1,62] 0.0000000000 -0.0000000000I\n",
      "uh_x[1,63] 0.0000000000 0.0000000000I\tuh_y[1,63] 0.0000000000 -0.0000000000I\n",
      "uh_x[1,64] 0.0000000000 0.0000000000I\tuh_y[1,64] 0.0000000000 -0.0000000000I\n"
     ]
    }
   ],
   "source": [
    "t = 2\n",
    "# for i in range(run_data.u_hat.shape[1]):\n",
    "i = 1\n",
    "for j in range(run_data.u_hat.shape[2]):\n",
    "    print(\"uh_x[{},{}] {:1.10f} {:1.10f}I\\tuh_y[{},{}] {:1.10f} {:1.10f}I\".format(i, j, np.real(run_data.u_hat[t, i, j, 0]), np.imag(run_data.u_hat[t, i, j, 0]), i, j, np.real(run_data.u_hat[t, i, j, 1]), np.imag(run_data.u_hat[t, i, j, 1])))"
   ]
  },
  {
   "cell_type": "code",
   "execution_count": null,
   "metadata": {},
   "outputs": [],
   "source": []
  }
 ],
 "metadata": {
  "kernelspec": {
   "display_name": "Python 3",
   "language": "python",
   "name": "python3"
  },
  "language_info": {
   "codemirror_mode": {
    "name": "ipython",
    "version": 3
   },
   "file_extension": ".py",
   "mimetype": "text/x-python",
   "name": "python",
   "nbconvert_exporter": "python",
   "pygments_lexer": "ipython3",
   "version": "3.6.9"
  }
 },
 "nbformat": 4,
 "nbformat_minor": 4
}
