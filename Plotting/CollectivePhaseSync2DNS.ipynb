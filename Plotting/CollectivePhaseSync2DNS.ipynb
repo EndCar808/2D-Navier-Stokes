{
 "cells": [
  {
   "cell_type": "code",
   "execution_count": 1,
   "metadata": {},
   "outputs": [],
   "source": [
    "#######################\n",
    "##  Library Imports  ##\n",
    "#######################\n",
    "import numpy as np\n",
    "import h5py\n",
    "import sys\n",
    "import os\n",
    "from numba import njit\n",
    "import matplotlib as mpl\n",
    "mpl.rcParams['text.usetex'] = True\n",
    "mpl.rcParams['font.family'] = 'serif'\n",
    "mpl.rcParams['font.serif']  = 'Computer Modern Roman'\n",
    "import matplotlib.pyplot as plt\n",
    "from matplotlib.gridspec import GridSpec\n",
    "from mpl_toolkits.axes_grid1 import make_axes_locatable\n",
    "import getopt\n",
    "from itertools import zip_longest\n",
    "import multiprocessing as mprocs\n",
    "import time as TIME\n",
    "from subprocess import Popen, PIPE\n",
    "from matplotlib.pyplot import cm\n",
    "from functions import tc, import_data, sim_data, import_data, import_spectra_data, import_post_processing_data"
   ]
  },
  {
   "cell_type": "code",
   "execution_count": 2,
   "metadata": {},
   "outputs": [],
   "source": [
    "in_dir = \"/home/ecarroll/PhD/2D_Navier_Stokes/Data/Test/SIM_DATA_NAVIER_RK4_FULL_N[128,128]_T[0-100]_NU[0.000003]_CFL[0.90]_u0[DECAY_TURB_ALT]_TAG[Test-Test]/\"\n",
    "post_file_path = in_dir + \"PostProcessing_HDF_Data_SECTORS[24]_KFRAC[0.75]_TAG[Test-Test].h5\""
   ]
  },
  {
   "cell_type": "code",
   "execution_count": 3,
   "metadata": {},
   "outputs": [],
   "source": [
    "# -----------------------------------------\n",
    "# # --------  Read In data\n",
    "# -----------------------------------------\n",
    "## Read in simulation parameters\n",
    "sys_vars = sim_data(in_dir)\n",
    "\n",
    "## Read in solver data\n",
    "run_data = import_data(in_dir, sys_vars)\n",
    "\n",
    "## Read in spectra data\n",
    "# spec_data = import_spectra_data(in_dir, sys_vars)\n",
    "\n",
    "## Read in post processing data\n",
    "post_data = import_post_processing_data(post_file_path, sys_vars, 'file')"
   ]
  },
  {
   "cell_type": "code",
   "execution_count": 4,
   "metadata": {},
   "outputs": [
    {
     "data": {
      "text/plain": [
       "(2001, 24)"
      ]
     },
     "execution_count": 4,
     "metadata": {},
     "output_type": "execute_result"
    }
   ],
   "source": [
    "post_data.phase_order_C_theta.shape"
   ]
  },
  {
   "cell_type": "code",
   "execution_count": 8,
   "metadata": {},
   "outputs": [],
   "source": [
    "R_k_t_avg = np.zeros((post_data.num_sect, ))\n",
    "t = 0\n",
    "for i in range(post_data.phase_order_C_theta.shape[0]):\n",
    "    R_k_t_avg[:] += np.absolute(post_data.phase_order_C_theta[i, :])\n",
    "    t += 1\n",
    "    \n",
    "R_k_t_avg /= t"
   ]
  },
  {
   "cell_type": "code",
   "execution_count": 6,
   "metadata": {},
   "outputs": [
    {
     "data": {
      "image/png": "[encoded data removed]",
      "text/plain": [
       "<matplotlib.figure.Figure at 0x7fcb8b4aac18>"
      ]
     },
     "metadata": {
      "needs_background": "light"
     },
     "output_type": "display_data"
    }
   ],
   "source": [
    "plt.figure()\n",
    "plt.plot(R_k_t_avg[:])\n",
    "plt.show()"
   ]
  },
  {
   "cell_type": "code",
   "execution_count": null,
   "metadata": {},
   "outputs": [],
   "source": []
  }
 ],
 "metadata": {
  "kernelspec": {
   "display_name": "Python 3",
   "language": "python",
   "name": "python3"
  },
  "language_info": {
   "codemirror_mode": {
    "name": "ipython",
    "version": 3
   },
   "file_extension": ".py",
   "mimetype": "text/x-python",
   "name": "python",
   "nbconvert_exporter": "python",
   "pygments_lexer": "ipython3",
   "version": "3.6.9"
  }
 },
 "nbformat": 4,
 "nbformat_minor": 4
}
