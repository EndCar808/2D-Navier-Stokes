{
 "cells": [
  {
   "cell_type": "code",
   "execution_count": 3,
   "id": "7a4c8464-cca2-4f89-a305-9c2c91cbe4ec",
   "metadata": {},
   "outputs": [],
   "source": [
    "import numpy as np\n",
    "import matplotlib.pyplot as plt\n",
    "from matplotlib.ticker import MaxNLocator\n",
    "import h5py\n",
    "import sys\n",
    "import os\n",
    "from numba import njit\n",
    "import matplotlib as mpl\n",
    "mpl.rcParams['text.usetex'] = True\n",
    "mpl.rcParams['font.family'] = 'serif'\n",
    "mpl.rcParams['font.serif']  = 'Computer Modern Roman'\n",
    "from matplotlib.gridspec import GridSpec\n",
    "from mpl_toolkits.axes_grid1 import make_axes_locatable\n",
    "import getopt\n",
    "from itertools import zip_longest\n",
    "import multiprocessing as mprocs\n",
    "import time as TIME\n",
    "from subprocess import Popen, PIPE\n",
    "from matplotlib.pyplot import cm\n",
    "from functions import tc, import_data, sim_data, import_data, import_spectra_data, import_post_processing_data, import_sys_msr, compute_pdf "
   ]
  },
  {
   "cell_type": "code",
   "execution_count": 1,
   "id": "bfeaa810-5a23-4418-8415-ad6877d49625",
   "metadata": {},
   "outputs": [
    {
     "name": "stdout",
     "output_type": "stream",
     "text": [
      "{\n",
      "  \"shell_port\": 50781,\n",
      "  \"iopub_port\": 48071,\n",
      "  \"stdin_port\": 46863,\n",
      "  \"control_port\": 44065,\n",
      "  \"hb_port\": 51993,\n",
      "  \"ip\": \"127.0.0.1\",\n",
      "  \"key\": \"d9f1fd0f-78c8ef4b404eced28c9b9047\",\n",
      "  \"transport\": \"tcp\",\n",
      "  \"signature_scheme\": \"hmac-sha256\",\n",
      "  \"kernel_name\": \"\"\n",
      "}\n",
      "\n",
      "Paste the above JSON into a file, and connect with:\n",
      "    $> jupyter <app> --existing <file>\n",
      "or, if you are local, you can connect with just:\n",
      "    $> jupyter <app> --existing kernel-6cc6f33a-ec2d-4fd8-9424-c9a0e0fdb930.json\n",
      "or even just:\n",
      "    $> jupyter <app> --existing\n",
      "if this is the most recent Jupyter kernel you have started.\n"
     ]
    }
   ],
   "source": [
    "%connect_info"
   ]
  },
  {
   "cell_type": "code",
   "execution_count": 6,
   "id": "28d88104-5b73-4254-8377-98ade8d9965e",
   "metadata": {},
   "outputs": [],
   "source": [
    "in_dir = \"/home/enda/PhD/2D-Navier-Stokes/Data/ThesisData/SIM_DATA_NAVIER_AB4CN_FULL_N[256,256]_T[0.0,0.001,200.000]_NU[5e-15,1,4.0]_DRAG[0.1,0.1,1,0.0]_CFL[0.90]_FORC[BODY_FORC,2,1]_u0[RANDOM]_TAG[Small-Stats-Run]/\"\n",
    "out_dir = in_dir + \"PHASE_ONLY_SNAPS/\""
   ]
  },
  {
   "cell_type": "code",
   "execution_count": 7,
   "id": "172b6d0d-cc23-4ac2-b771-d649185417f3",
   "metadata": {},
   "outputs": [
    {
     "name": "stdout",
     "output_type": "stream",
     "text": [
      "\n",
      "Preparing real space vorticity from Solver Data... Finished!\n",
      "CPU times: user 1.37 s, sys: 413 ms, total: 1.78 s\n",
      "Wall time: 5.42 s\n"
     ]
    }
   ],
   "source": [
    "%%time\n",
    "# -----------------------------------------\n",
    "# # --------  Read In data\n",
    "# -----------------------------------------\n",
    "## Read in simulation parameters\n",
    "sys_vars = sim_data(in_dir)\n",
    "\n",
    "## Read in solver data\n",
    "run_data = import_data(in_dir, sys_vars)\n",
    "\n",
    "## Read in system measures data\n",
    "sys_msr_data = import_sys_msr(in_dir, sys_vars)\n",
    "\n",
    "## Read in spectra data\n",
    "spec_data = import_spectra_data(in_dir, sys_vars)\n",
    "\n",
    "## Read in post processing data\n",
    "# post_data = import_post_processing_data(post_file_path, sys_vars, 'file')"
   ]
  },
  {
   "cell_type": "markdown",
   "id": "6b33cf24-c78c-4d42-ba3e-30e55f16ea45",
   "metadata": {},
   "source": [
    "## Get time Averaged Amplitudes"
   ]
  },
  {
   "cell_type": "code",
   "execution_count": 8,
   "id": "12bae6e0-6794-4384-bce2-17d82960f665",
   "metadata": {},
   "outputs": [
    {
     "name": "stdout",
     "output_type": "stream",
     "text": [
      "CPU times: user 139 ms, sys: 0 ns, total: 139 ms\n",
      "Wall time: 163 ms\n"
     ]
    }
   ],
   "source": [
    "%%time \n",
    "a_k_t_avg = np.zeros((sys_vars.Ny, sys_vars.Nx//2 + 1))\n",
    "t_count = 0\n",
    "for t in range(sys_vars.ndata):\n",
    "    a_k_t_avg[:, :] += np.absolute(run_data.w_hat[t, :, :])\n",
    "    t_count += 1\n",
    "a_k_t_avg /= t_count"
   ]
  },
  {
   "cell_type": "markdown",
   "id": "e22595c1-8b4b-437a-a554-2e5e0a262657",
   "metadata": {},
   "source": [
    "## Construct the vorticity with the time averaged Amplitudes"
   ]
  },
  {
   "cell_type": "code",
   "execution_count": 9,
   "id": "e97cb285-1c46-4f03-bdc4-e825b3200f64",
   "metadata": {},
   "outputs": [
    {
     "name": "stdout",
     "output_type": "stream",
     "text": [
      "CPU times: user 458 ms, sys: 89.3 ms, total: 548 ms\n",
      "Wall time: 548 ms\n"
     ]
    }
   ],
   "source": [
    "%%time\n",
    "w_hat_t_avg = np.zeros((sys_vars.ndata, sys_vars.Ny, sys_vars.Nx//2 + 1), dtype = \"complex128\")\n",
    "for t in range(sys_vars.ndata):\n",
    "    w_hat_t_avg[t, :, :] = a_k_t_avg[:, :] * np.exp(1j * np.angle(run_data.w_hat[t, :, :]))"
   ]
  },
  {
   "cell_type": "markdown",
   "id": "bb23921e-cb4c-4e7b-ae11-ae6ce8cd9aa8",
   "metadata": {},
   "source": [
    "## Define Stats Functions"
   ]
  },
  {
   "cell_type": "code",
   "execution_count": 18,
   "id": "b2572898-d71b-4f67-9d2c-43b8d8e70e37",
   "metadata": {},
   "outputs": [],
   "source": [
    "@njit\n",
    "def compute_w_str_func(field, in_powers = 6):\n",
    "    ## Get dims\n",
    "    Ny = field.shape[0]\n",
    "    Nx = field.shape[1]\n",
    "    \n",
    "    ## Get increments\n",
    "    r_inc = np.arange(1, Nx//2)\n",
    "    \n",
    "    ## Get powers\n",
    "    if isinstance(in_powers, int):\n",
    "        powers = np.arange(1, in_powers + 1)\n",
    "    else:\n",
    "        powers = in_powers\n",
    "    \n",
    "    ## Allocate memory\n",
    "    str_func     = np.zeros((len(powers), len(r_inc), 2))\n",
    "    str_func_abs = np.zeros((len(powers), len(r_inc), 2))\n",
    "    \n",
    "    for i, p in enumerate(powers):\n",
    "        for j, r in enumerate(r_inc):\n",
    "            \n",
    "            ## Define increments\n",
    "            long_incr      = 0.0\n",
    "            trans_incr     = 0.0\n",
    "            long_incr_abs  = 0.0\n",
    "            trans_incr_abs = 0.0\n",
    "    \n",
    "            for ky in range(Ny):\n",
    "                for kx in range(Nx):\n",
    "                    ## Update increment sums\n",
    "                    long_incr      += np.power(field[i, np.mod(j + r, Nx)] - field[i, j], p)\n",
    "                    trans_incr     += np.power(field[np.mod(i + r, Ny), j] - field[i, j], p)\n",
    "                    long_incr_abs  += np.power(field[i, np.mod(j + r, Nx)] - field[i, j], p)\n",
    "                    trans_incr_abs += np.power(field[np.mod(i + r, Ny), j] - field[i, j], p)\n",
    "            \n",
    "            str_func[i, j, 0]     = long_incr\n",
    "            str_func[i, j, 1]     = trans_incr\n",
    "            str_func_abs[i, j, 0] = long_incr_abs\n",
    "            str_func_abs[i, j, 1] = trans_incr_abs\n",
    "    \n",
    "    return str_func, str_func_abs\n",
    "\n",
    "@njit\n",
    "def compute_u_str_func(field, in_powers = 6):\n",
    "    ## Get dims\n",
    "    Ny = field.shape[0]\n",
    "    Nx = field.shape[1]\n",
    "    \n",
    "    ## Get increments\n",
    "    r_inc = np.arange(1, Nx//2)\n",
    "    \n",
    "    ## Get powers\n",
    "    if isinstance(in_powers, int):\n",
    "        powers = np.arange(1, in_powers + 1)\n",
    "    else:\n",
    "        powers = in_powers\n",
    "    \n",
    "    ## Allocate memory\n",
    "    str_func     = np.zeros((len(powers), len(r_inc), 2))\n",
    "    str_func_abs = np.zeros((len(powers), len(r_inc), 2))\n",
    "    \n",
    "    for i, p in enumerate(powers):\n",
    "        for j, r in enumerate(r_inc):\n",
    "            \n",
    "            ## Define increments\n",
    "            long_incr      = 0.0\n",
    "            trans_incr     = 0.0\n",
    "            long_incr_abs  = 0.0\n",
    "            trans_incr_abs = 0.0\n",
    "    \n",
    "            for ky in range(Ny):\n",
    "                for kx in range(Nx):\n",
    "                    ## Update increment sums\n",
    "                    long_incr      += np.power(field[i, np.mod(j + r, Nx), 0] - field[i, j, 0], p)\n",
    "                    trans_incr     += np.power(field[i, np.mod(j + r, Nx), 1] - field[i, j, 1], p)\n",
    "                    long_incr_abs  += np.power(field[i, np.mod(j + r, Nx), 0] - field[i, j, 0], p)\n",
    "                    trans_incr_abs += np.power(field[i, np.mod(j + r, Nx), 1] - field[i, j, 1], p)\n",
    "            \n",
    "            str_func[i, j, 0]     = long_incr / (Nx * Ny)\n",
    "            str_func[i, j, 1]     = trans_incr / (Nx * Ny)\n",
    "            str_func_abs[i, j, 0] = long_incr_abs / (Nx * Ny)\n",
    "            str_func_abs[i, j, 1] = trans_incr_abs / (Nx * Ny)\n",
    "    \n",
    "    return str_func, str_func_abs"
   ]
  },
  {
   "cell_type": "markdown",
   "id": "1c04e255-2397-450c-ad42-5683c0acc1eb",
   "metadata": {},
   "source": [
    "## Compute Stats"
   ]
  },
  {
   "cell_type": "code",
   "execution_count": 20,
   "id": "8c226a85-a94f-4da2-ad47-b8e94c71c689",
   "metadata": {},
   "outputs": [
    {
     "name": "stdout",
     "output_type": "stream",
     "text": [
      "0\n"
     ]
    },
    {
     "ename": "NameError",
     "evalue": "name 'w_str_func_tmp_abs' is not defined",
     "output_type": "error",
     "traceback": [
      "\u001b[0;31m---------------------------------------------------------------------------\u001b[0m",
      "\u001b[0;31mNameError\u001b[0m                                 Traceback (most recent call last)",
      "File \u001b[0;32m<timed exec>:15\u001b[0m\n",
      "\u001b[0;31mNameError\u001b[0m: name 'w_str_func_tmp_abs' is not defined"
     ]
    }
   ],
   "source": [
    "%%time \n",
    "max_pow = 6\n",
    "r_inc   = np.arange(1, sys_vars.Nx//2)\n",
    "\n",
    "w_str_func     = np.zeros((max_pow, len(r_inc), 2))\n",
    "w_str_func_abs = np.zeros((max_pow, len(r_inc), 2))\n",
    "w_str_func_avg     = np.zeros((max_pow, len(r_inc), 2))\n",
    "w_str_func_abs_avg = np.zeros((max_pow, len(r_inc), 2))\n",
    "\n",
    "t_count = 0\n",
    "for t in range(10):\n",
    "    print(t)\n",
    "    ## Get str function on solver data\n",
    "    w_str_func_tmp, w_str_func_abs_tmp = compute_w_str_func(np.fft.irfft2(run_data.w_hat[t, :, :]), in_powers = max_pow)\n",
    "    w_str_func     += w_str_func_tmp\n",
    "    w_str_func_abs += w_str_func_tmp_abs\n",
    "    \n",
    "    ## Get str function on solver data\n",
    "    w_str_func_tmp, w_str_func_abs_tmp = compute_w_str_func(np.fft.irfft2(w_hat_t_avg[t, :, :]), in_powers = max_pow)\n",
    "    w_str_func_avg     += w_str_func_tmp\n",
    "    w_str_func_abs_avg += w_str_func_tmp_abs\n",
    "    \n",
    "    ## Incremnt\n",
    "    t_count += 1\n",
    "    \n",
    "## Normalize\n",
    "w_str_func     /= t_count\n",
    "w_str_func_abs /= t_count\n",
    "w_str_func_avg     /= t_count\n",
    "w_str_func_abs_avg /= t_count"
   ]
  },
  {
   "cell_type": "markdown",
   "id": "5d0b4ee7-b45f-4d3b-a154-8f02cea60dd7",
   "metadata": {},
   "source": [
    "## Plot Data to Compare"
   ]
  },
  {
   "cell_type": "code",
   "execution_count": 9,
   "id": "eedce436-b0a8-4f7d-9d84-4f53eff86185",
   "metadata": {},
   "outputs": [],
   "source": [
    "N = 16\n",
    "kx = np.arange(0, N//2 + 1)\n",
    "ky = np.append(kx, np.arange(-N//2 + 1, 0, 1))\n"
   ]
  },
  {
   "cell_type": "code",
   "execution_count": 10,
   "id": "27849b2d-8cc4-44e3-bf33-4623d891127e",
   "metadata": {},
   "outputs": [
    {
     "name": "stdout",
     "output_type": "stream",
     "text": [
      "[0 1 2 3 4 5 6 7 8]\n",
      "[ 0  1  2  3  4  5  6  7  8 -7 -6 -5 -4 -3 -2 -1]\n"
     ]
    }
   ],
   "source": [
    "print(kx)\n",
    "print(ky)"
   ]
  },
  {
   "cell_type": "code",
   "execution_count": 82,
   "id": "56f45fc9-73b8-4b07-b7c3-6b021f5654c2",
   "metadata": {},
   "outputs": [
    {
     "name": "stdout",
     "output_type": "stream",
     "text": [
      "0 7 7.0\n",
      "1 7 7.0\n",
      "2 7 7.0\n",
      "3 6 7.0\n",
      "4 6 7.0\n",
      "5 5 7.0\n",
      "6 3 7.0\n",
      "6 4 7.0\n",
      "7 0 7.0\n",
      "7 1 7.0\n",
      "7 2 7.0\n",
      "-7 0 7.0\n",
      "-7 1 7.0\n",
      "-7 2 7.0\n",
      "-6 3 7.0\n",
      "-6 4 7.0\n",
      "-5 5 7.0\n",
      "-4 6 7.0\n",
      "-3 6 7.0\n",
      "-2 7 7.0\n",
      "-1 7 7.0\n",
      "21\n"
     ]
    }
   ],
   "source": [
    "kf = 7\n",
    "delta = 0.5\n",
    "forced = np.zeros((len(ky), len(kx)))\n",
    "count = 0\n",
    "for i in ky:\n",
    "    for j in kx:\n",
    "        # k_sqr = i**2 + j**2\n",
    "        k_sqr = np.round(np.sqrt(i**2 + j**2))\n",
    "        # if k_sqr <= (kf)**2 + delta and k_sqr >= (kf)**2 - delta:\n",
    "        if k_sqr <= kf + delta and k_sqr >= kf - delta:\n",
    "            forced[i, j] = 1.0\n",
    "            print(i, j, k_sqr)\n",
    "            count += 1\n",
    "\n",
    "print(count)"
   ]
  },
  {
   "cell_type": "code",
   "execution_count": 80,
   "id": "60072264-7c34-463b-b8b2-5185221ab0e8",
   "metadata": {},
   "outputs": [
    {
     "name": "stdout",
     "output_type": "stream",
     "text": [
      "[0,0]: 0.0 [0,1]: 0.0 [0,2]: 0.0 [0,3]: 0.0 [0,4]: 0.0 [0,5]: 0.0 [0,6]: 0.0 [0,7]: 1.0 [0,8]: 0.0 \n",
      "[1,0]: 0.0 [1,1]: 0.0 [1,2]: 0.0 [1,3]: 0.0 [1,4]: 0.0 [1,5]: 0.0 [1,6]: 0.0 [1,7]: 1.0 [1,8]: 0.0 \n",
      "[2,0]: 0.0 [2,1]: 0.0 [2,2]: 0.0 [2,3]: 0.0 [2,4]: 0.0 [2,5]: 0.0 [2,6]: 0.0 [2,7]: 1.0 [2,8]: 0.0 \n",
      "[3,0]: 0.0 [3,1]: 0.0 [3,2]: 0.0 [3,3]: 0.0 [3,4]: 0.0 [3,5]: 0.0 [3,6]: 1.0 [3,7]: 0.0 [3,8]: 0.0 \n",
      "[4,0]: 0.0 [4,1]: 0.0 [4,2]: 0.0 [4,3]: 0.0 [4,4]: 0.0 [4,5]: 0.0 [4,6]: 1.0 [4,7]: 0.0 [4,8]: 0.0 \n",
      "[5,0]: 0.0 [5,1]: 0.0 [5,2]: 0.0 [5,3]: 0.0 [5,4]: 0.0 [5,5]: 1.0 [5,6]: 0.0 [5,7]: 0.0 [5,8]: 0.0 \n",
      "[6,0]: 0.0 [6,1]: 0.0 [6,2]: 0.0 [6,3]: 1.0 [6,4]: 1.0 [6,5]: 0.0 [6,6]: 0.0 [6,7]: 0.0 [6,8]: 0.0 \n",
      "[7,0]: 1.0 [7,1]: 1.0 [7,2]: 1.0 [7,3]: 0.0 [7,4]: 0.0 [7,5]: 0.0 [7,6]: 0.0 [7,7]: 0.0 [7,8]: 0.0 \n",
      "[8,0]: 0.0 [8,1]: 0.0 [8,2]: 0.0 [8,3]: 0.0 [8,4]: 0.0 [8,5]: 0.0 [8,6]: 0.0 [8,7]: 0.0 [8,8]: 0.0 \n",
      "[-7,0]: 1.0 [-7,1]: 1.0 [-7,2]: 1.0 [-7,3]: 0.0 [-7,4]: 0.0 [-7,5]: 0.0 [-7,6]: 0.0 [-7,7]: 0.0 [-7,8]: 0.0 \n",
      "[-6,0]: 0.0 [-6,1]: 0.0 [-6,2]: 0.0 [-6,3]: 1.0 [-6,4]: 1.0 [-6,5]: 0.0 [-6,6]: 0.0 [-6,7]: 0.0 [-6,8]: 0.0 \n",
      "[-5,0]: 0.0 [-5,1]: 0.0 [-5,2]: 0.0 [-5,3]: 0.0 [-5,4]: 0.0 [-5,5]: 1.0 [-5,6]: 0.0 [-5,7]: 0.0 [-5,8]: 0.0 \n",
      "[-4,0]: 0.0 [-4,1]: 0.0 [-4,2]: 0.0 [-4,3]: 0.0 [-4,4]: 0.0 [-4,5]: 0.0 [-4,6]: 1.0 [-4,7]: 0.0 [-4,8]: 0.0 \n",
      "[-3,0]: 0.0 [-3,1]: 0.0 [-3,2]: 0.0 [-3,3]: 0.0 [-3,4]: 0.0 [-3,5]: 0.0 [-3,6]: 1.0 [-3,7]: 0.0 [-3,8]: 0.0 \n",
      "[-2,0]: 0.0 [-2,1]: 0.0 [-2,2]: 0.0 [-2,3]: 0.0 [-2,4]: 0.0 [-2,5]: 0.0 [-2,6]: 0.0 [-2,7]: 1.0 [-2,8]: 0.0 \n",
      "[-1,0]: 0.0 [-1,1]: 0.0 [-1,2]: 0.0 [-1,3]: 0.0 [-1,4]: 0.0 [-1,5]: 0.0 [-1,6]: 0.0 [-1,7]: 1.0 [-1,8]: 0.0 \n"
     ]
    }
   ],
   "source": [
    "for i in ky:\n",
    "    for j in kx:\n",
    "        print(\"[{},{}]: {} \".format(ky[i], kx[j], forced[i, j]), end = \"\")\n",
    "    print()"
   ]
  },
  {
   "cell_type": "code",
   "execution_count": 81,
   "id": "e4994466-7dc8-46d1-8651-8bff74d61554",
   "metadata": {},
   "outputs": [
    {
     "data": {
      "image/png": "[encoded data removed]",
      "text/plain": [
       "<Figure size 640x480 with 1 Axes>"
      ]
     },
     "metadata": {},
     "output_type": "display_data"
    }
   ],
   "source": [
    "theta = np.arange(0, 2.0 * np.pi+ 2.0*np.pi/1000, 2.0*np.pi/1000)\n",
    "xx, yy = np.meshgrid(np.arange(-10, 10), np.arange(-10, 10), indexing='ij')\n",
    "plt.scatter(xx,yy)\n",
    "plt.plot((kf - delta) * np.cos(theta), (kf - delta) * np.sin(theta), color = \"red\")\n",
    "plt.plot((kf + delta) * np.cos(theta), (kf + delta) * np.sin(theta), color = \"red\")\n",
    "plt.xlim(0, 10)\n",
    "plt.ylim(-10, 10)\n",
    "plt.show()"
   ]
  },
  {
   "cell_type": "code",
   "execution_count": null,
   "id": "ad5d1ad0-2ca0-4ebf-9ad3-0f327b71a2e8",
   "metadata": {},
   "outputs": [],
   "source": []
  }
 ],
 "metadata": {
  "kernelspec": {
   "display_name": "Python 3 (ipykernel)",
   "language": "python",
   "name": "python3"
  },
  "language_info": {
   "codemirror_mode": {
    "name": "ipython",
    "version": 3
   },
   "file_extension": ".py",
   "mimetype": "text/x-python",
   "name": "python",
   "nbconvert_exporter": "python",
   "pygments_lexer": "ipython3",
   "version": "3.10.6"
  }
 },
 "nbformat": 4,
 "nbformat_minor": 5
}
