import matplotlib as mpl
import numpy as np
# print(mpl.pyplot.get_backend())
import matplotlib.pyplot as plt
import pandas as pd


url = df = pd.read_csv("https://raw.githubusercontent.com/plotly/datasets/master/tips.csv")
# Matplotlib Scatter Plot
plt.scatter("total_bill", "tip", data=df)
plt.xlabel("Total Bill")
plt.ylabel("Tip")
plt.show()


get_ipython().run_line_magic("matplotlib", " widget")


plt.scatter("total_bill", "tip", data=df)
plt.xlabel("Total Bill")
plt.ylabel("Tip")
plt.show()


df.plot(kind="line")


get_ipython().run_line_magic("matplotlib", " inline")


plt.scatter("total_bill", "tip",data=df)
plt.xlabel("Total Bill")
plt.ylabel("Tip")
plt.show()


x = np.arange(10)


t = np.sin(x)


from matplotlib import pyplot as plt



np.ar
